{
 "cells": [
  {
   "cell_type": "markdown",
   "id": "a2780d6e",
   "metadata": {},
   "source": [
    "# Benchmark workshop live session\n",
    "\n",
    "## Learning objectives\n",
    "<br>\n",
    "\n",
    "By the end of this workshop you will be able to:\n",
    " 1. Identify torsion violations \n",
    " 2. Identify forcefield parameters associated with torsion violations\n",
    " 3. Visualize violation frequency as a function of torsion parameter"
   ]
  },
  {
   "cell_type": "code",
   "execution_count": 10,
   "id": "f55d6a1d",
   "metadata": {},
   "outputs": [],
   "source": [
    "from rdkit.Chem import rdMolTransforms\n",
    "from rdkit.Chem import PandasTools\n",
    "from tqdm import tqdm\n",
    "from glob import glob\n",
    "\n",
    "import pandas as pd\n",
    "import numpy as np\n",
    "import os\n",
    "import json"
   ]
  },
  {
   "cell_type": "markdown",
   "id": "9ca8ebd0",
   "metadata": {},
   "source": [
    "## 1. Identify torsion violations"
   ]
  },
  {
   "cell_type": "markdown",
   "id": "9fb0ed9e",
   "metadata": {},
   "source": [
    "This first part of the code section loads the sdf files of the QM and MM methods, then goes through all the torsions\n",
    "to compare the QM and MM values and outputs the conformers that exhibit a torsion deviation larger than a given threshold.\n",
    "Since a given torsion is defined by 4 atoms indices, but the bond which is rotating is always defined by the 2 middle indices, same rotating bonds might be identified multiple times because they are comprehended in different torsions. The last part of this code section removes such duplicates."
   ]
  },
  {
   "cell_type": "code",
   "execution_count": 11,
   "id": "54295b38",
   "metadata": {},
   "outputs": [],
   "source": [
    "def chk_valence(df, t_thresh=10.):\n",
    "    \"\"\"\n",
    "    compare torsions values from qm and mm geometries\n",
    "\n",
    "    go through all torsions in the molecule, calculate the values for both qm and mm\n",
    "    conformation and output if larger than the corresponding threshold\n",
    "\n",
    "    Args:\n",
    "        df (pd.DataFrame): dataframe holding conformations and identifier\n",
    "        t_thresh (float): threshold for torsion deviation\n",
    "               \n",
    "    Returns:\n",
    "        pd.DataFrame holding the valence violations\n",
    "\n",
    "    \"\"\"\n",
    "\n",
    "    t_violations = []\n",
    "    \n",
    "    for i, row in df.iterrows():\n",
    "        mol1, mol2 = row[['mol_qm','mol_off']]\n",
    "\n",
    "        name = mol1.GetProp(\"_Name\")\n",
    "        \n",
    "        # collect all bonds as pairs of atom indices\n",
    "        bonds = [(x.GetBeginAtomIdx(), x.GetEndAtomIdx()) for x in mol1.GetBonds()]\n",
    "        conf1 = mol1.GetConformer()\n",
    "        conf2 = mol2.GetConformer()\n",
    "\n",
    "        nAtoms = mol1.GetNumAtoms()\n",
    "        for i in range(nAtoms):\n",
    "            ie = mol1.GetAtomWithIdx(i).GetSymbol()\n",
    "\n",
    "            # if atom has 3 neighbors, calculate improper torsion value\n",
    "            neighbors = mol1.GetAtomWithIdx(i).GetNeighbors()\n",
    "            if len(neighbors) == 3:\n",
    "                nn =[]\n",
    "                for n in neighbors:\n",
    "                    nn.append(n.GetIdx())\n",
    "\n",
    "                je = mol1.GetAtomWithIdx(nn[0]).GetSymbol()\n",
    "                ke = mol1.GetAtomWithIdx(nn[0]).GetSymbol()\n",
    "                le = mol1.GetAtomWithIdx(nn[0]).GetSymbol()\n",
    "\n",
    "\n",
    "            # get the second atom for the bond calculation\n",
    "            for j in range(i, nAtoms):\n",
    "\n",
    "                # if atom 2 is not bonded to atom 1, skip\n",
    "                if (i,j) not in bonds and (j,i) not in bonds:\n",
    "                    continue\n",
    "\n",
    "                je = mol1.GetAtomWithIdx(j).GetSymbol()\n",
    "\n",
    "\n",
    "                # get the third atom for angle calculation\n",
    "                for k in range(nAtoms):\n",
    "\n",
    "                    # if atom 3 is not bonded to atom 2, skip\n",
    "                    if (j, k) not in bonds and (k, j) not in bonds:\n",
    "                        continue\n",
    "\n",
    "                    ke = mol1.GetAtomWithIdx(k).GetSymbol()\n",
    "\n",
    "                    # check that we have 3 distinct atoms\n",
    "                    test = ([i, j, k])\n",
    "                    if len(test) != 3:\n",
    "                        continue\n",
    "\n",
    "\n",
    "                    # get the forth atom\n",
    "                    for l in range(nAtoms):\n",
    "\n",
    "                        # check that atom 4 is bonded to atom 3\n",
    "                        if (k, l) not in bonds and (l, k) not in bonds:\n",
    "                            continue\n",
    "\n",
    "                        le = mol1.GetAtomWithIdx(l).GetSymbol()\n",
    "\n",
    "                        # check if 4 distinct atoms\n",
    "                        test = ([i,j,k,l])\n",
    "                        if len(test) != 4:\n",
    "                            continue\n",
    "\n",
    "\n",
    "                        t1 = round(rdMolTransforms.GetDihedralDeg(conf1, i, j, k, l), 2)\n",
    "                        t2 = round(rdMolTransforms.GetDihedralDeg(conf2, i, j, k, l), 2)\n",
    "                        diff = round(abs(t1-t2), 2)\n",
    "                        if diff > 180:\n",
    "                            diff = abs(diff - 360)\n",
    "\n",
    "                        if diff > t_thresh :\n",
    "                            \n",
    "                            t_violations.append([name, ie, je, ke, le, i+1, j+1, k+1, l+1, t1, t2, diff])\n",
    "\n",
    "    \n",
    "    # convert violation lists into a common dataframe\n",
    "\n",
    "    t_violations = pd.DataFrame(t_violations)\n",
    "    if len(t_violations.index) != 0:\n",
    "        t_violations.columns = ['ID', 'at1', 'at2', 'at3', 'at4', 'i', 'j', 'k', 'l', 'val_qm', 'val_off', 'difference']\n",
    "\n",
    "    dfout = pd.DataFrame(t_violations)\n",
    "    \n",
    "    dfout = dfout[['ID', 'at1', 'at2', 'at3', 'at4', 'i', 'j', 'k', 'l', 'val_qm', 'val_off', 'difference']]\n",
    "           \n",
    "    \n",
    "    return dfout"
   ]
  },
  {
   "cell_type": "code",
   "execution_count": 12,
   "id": "6aa7b2ea",
   "metadata": {
    "collapsed": true
   },
   "outputs": [
    {
     "name": "stderr",
     "output_type": "stream",
     "text": [
      "/users/home/ldamored/miniconda/envs/off-opt/lib/python3.7/site-packages/ipykernel_launcher.py:25: DeprecationWarning: `np.float` is a deprecated alias for the builtin `float`. To silence this warning, use `float` by itself. Doing this will not modify any behavior and is safe. If you specifically wanted the numpy scalar type, use `np.float64` here.\n",
      "Deprecated in NumPy 1.20; for more details and guidance: https://numpy.org/devdocs/release/1.20.0-notes.html#deprecations\n"
     ]
    }
   ],
   "source": [
    "qm_glob = 'data/b3lyp-d3bj/dzvp/*.sdf'\n",
    "mm_glob = 'data/openff-1.3.0/*.sdf'\n",
    "\n",
    "qm_data = []\n",
    "for sdf in glob(qm_glob):\n",
    "    df = PandasTools.LoadSDF(sdf)\n",
    "    qm_data.append(df)\n",
    "\n",
    "qm_data = pd.concat(qm_data)\n",
    "qm_data = qm_data[['conformer_index', 'molecule_index', 'final_energy', 'ID', 'ROMol']]\n",
    "qm_data.columns = ['confID', 'MolID', 'Eqm', 'ID', 'mol_qm']\n",
    "\n",
    "mm_data = []\n",
    "for sdf in glob(mm_glob):\n",
    "    df = PandasTools.LoadSDF(sdf)\n",
    "    mm_data.append(df)\n",
    "    \n",
    "mm_data = pd.concat(mm_data)\n",
    "mm_data = mm_data[['ID', 'ROMol']]\n",
    "mm_data.columns = ['ID', 'mol_off']\n",
    "\n",
    "df = pd.merge(qm_data, mm_data, on='ID')\n",
    "\n",
    "df['Eqm'] = df['Eqm'].str.replace('kilocalorie / mole', '')\n",
    "df = df.astype({'Eqm':np.float})\n",
    "\n",
    "df.sort_values(by=['MolID', 'Eqm'], inplace=True)\n",
    "\n",
    "df = df.groupby(['MolID']).first()"
   ]
  },
  {
   "cell_type": "code",
   "execution_count": 13,
   "id": "97b17426",
   "metadata": {
    "collapsed": true
   },
   "outputs": [
    {
     "name": "stdout",
     "output_type": "stream",
     "text": [
      "               ID at1 at2 at3 at4   i   j   k   l  val_qm  val_off  difference\n",
      "0    JNS-00129-06   N   C   C   F  14  15  18  19  179.82  -121.67       58.51\n",
      "1    JNS-00129-06   N   C   C   F  14  15  18  20   59.86   119.98       60.12\n",
      "2    JNS-00129-06   N   C   C   F  14  15  18  21  -60.21    -0.93       59.28\n",
      "3    XTP-00455-03   C   C   C   F   2  12  14  15 -118.17   -59.29       58.88\n",
      "4    XTP-00455-03   C   C   C   F   2  12  14  16  121.60   179.91       58.31\n",
      "5    XTP-00455-03   C   C   C   F   2  12  14  17    1.61    59.16       57.55\n",
      "6    GNT-00519-00   F   C   C   C   3  20  14  10  118.09    56.79       61.30\n",
      "7    GNT-00519-00   F   C   C   N   3  20  14  11  -60.71  -121.56       60.85\n",
      "8    GNT-00519-00   F   C   C   C   4  20  14  10 -121.78   177.54       60.68\n",
      "9    GNT-00519-00   F   C   C   N   4  20  14  11   59.42    -0.81       60.23\n",
      "10   GNT-00519-00   F   C   C   C   5  20  14  10   -1.83   -61.65       59.82\n",
      "11   GNT-00519-00   F   C   C   N   5  20  14  11  179.37   119.99       59.38\n",
      "12   GNT-00519-00   C   C   C   F  10  14  20   3  118.09    56.79       61.30\n",
      "13   GNT-00519-00   C   C   C   F  10  14  20   4 -121.78   177.54       60.68\n",
      "14   GNT-00519-00   C   C   C   F  10  14  20   5   -1.83   -61.65       59.82\n",
      "15   GNT-00519-00   N   C   C   F  11  14  20   3  -60.71  -121.56       60.85\n",
      "16   GNT-00519-00   N   C   C   F  11  14  20   4   59.42    -0.81       60.23\n",
      "17   GNT-00519-00   N   C   C   F  11  14  20   5  179.37   119.99       59.38\n",
      "18   MRK-00538-08   C   C   C   F  20  21  22  23 -119.27   -58.97       60.30\n",
      "19   MRK-00538-08   C   C   C   F  20  21  22  24    0.62    59.41       58.79\n",
      "20   MRK-00538-08   C   C   C   F  20  21  22  25  120.48  -179.82       59.70\n",
      "21   XTP-00577-02   C   C   C   F   2  15  16  17 -119.72  -178.35       58.63\n",
      "22   XTP-00577-02   C   C   C   F   2  15  16  18  120.03    60.90       59.13\n",
      "23   XTP-00577-02   C   C   C   F   2  15  16  19    0.13   -57.65       57.78\n",
      "24   BRI-00638-05   C   C   O   C   1   2   3   4 -173.08  -120.41       52.67\n",
      "25   BRI-00638-05   C   C   N   S   4   5   6   7  -93.89  -164.40       70.51\n",
      "26   BRI-00638-05   C   C   C   F  19  20  22  23 -117.43   -60.58       56.85\n",
      "27   BRI-00638-05   C   C   C   F  19  20  22  24  122.40   178.55       56.15\n",
      "28   BRI-00638-05   C   C   C   F  19  20  22  25    2.48    57.98       55.50\n",
      "29   BRI-00647-05   N   C   C   O   8   9  21  22  168.92   132.75       36.17\n",
      "30   BRI-00647-05   N   C   C   O   8   9  21  23  -13.10   -46.46       33.36\n",
      "31   BRI-00647-05   N   C   C   F  13  14  17  18  -58.44    -0.73       57.71\n",
      "32   BRI-00647-05   N   C   C   F  13  14  17  19   61.91   120.15       58.24\n",
      "33   BRI-00647-05   N   C   C   F  13  14  17  20 -178.52  -121.61       56.91\n",
      "34   JNS-00690-06   N   C   C   F   9  10  13  14  -58.04    -3.29       54.75\n",
      "35   JNS-00690-06   N   C   C   F   9  10  13  15 -178.00  -123.77       54.23\n",
      "36   JNS-00690-06   N   C   C   F   9  10  13  16   61.94   117.68       55.74\n",
      "37   BRI-00739-00   C   C   C   C   3   5  11  10  146.67   116.26       30.41\n",
      "38   BRI-00739-00   C   C   C   C  10  11   5   3  146.67   116.26       30.41\n",
      "39   BRI-00739-00   C   C   C   F  14  15  19  20   -1.82   -60.81       58.99\n",
      "40   BRI-00739-00   C   C   C   F  14  15  19  21 -121.88   178.11       60.01\n",
      "41   BRI-00739-00   C   C   C   F  14  15  19  22  117.77    57.39       60.38\n",
      "42   MRK-00792-05   C   C   C   F   8   9  10  11 -121.49  -162.17       40.68\n",
      "43   MRK-00792-05   C   C   C   F   8   9  10  12  120.02    77.85       42.17\n",
      "44   MRK-00792-05   C   C   C   F   8   9  10  13   -1.08   -41.76       40.68\n",
      "45   JNS-01002-06   N   C   C   F   3   4  16  17  -59.51    -0.10       59.41\n",
      "46   JNS-01002-06   N   C   C   F   3   4  16  18 -179.31  -120.84       58.47\n",
      "47   JNS-01002-06   N   C   C   F   3   4  16  19   60.75   120.70       59.95\n",
      "48   MRK-01088-04   C   C   C   F  17  18  19  20 -121.89  -176.06       54.17\n",
      "49   MRK-01088-04   C   C   C   F  17  18  19  21   -1.93   -55.36       53.43\n",
      "50   MRK-01088-04   C   C   C   F  17  18  19  22  118.02    63.16       54.86\n",
      "51   RCH-01195-01   C   C   C   F   3   6  10  15 -118.47   -59.82       58.65\n",
      "52   RCH-01195-01   C   C   C   F   3   6  10  16  121.33   179.49       58.16\n",
      "53   RCH-01195-01   C   C   C   F   3   6  10  17    1.35    58.64       57.29\n",
      "54   BRI-01231-06   C   O   C   C   1   2   3   4  179.02  -142.84       38.14\n",
      "55   BRI-01231-06   C   O   C   C   1   2   3  19   -0.84    38.29       39.13\n",
      "56   BRI-01231-06   N   C   C   F   8   9  12  13   58.97     0.17       58.80\n",
      "57   BRI-01231-06   N   C   C   F   8   9  12  14  178.91   120.99       57.92\n",
      "58   BRI-01231-06   N   C   C   F   8   9  12  15  -61.34  -120.69       59.35\n",
      "59   JNS-01242-05   F   C   C   C   1   2   5   6   -2.19   -60.97       58.78\n",
      "60   JNS-01242-05   F   C   C   N   1   2   5  18  178.27   119.14       59.13\n",
      "61   JNS-01242-05   N   C   C   C   9  10  11  12    6.42    69.23       62.81\n",
      "62   JNS-01242-05   N   C   C   C   9  10  11  15 -109.94   -44.55       65.39\n",
      "63   JNS-01242-05   C   C   C   O  10  11  15  14  137.60    96.64       40.96\n",
      "64   JNS-01242-05   C   C   O   C  11  15  14  13  -35.78     3.72       39.50\n",
      "65   JNS-01242-05   C   O   C   C  13  14  15  11  -35.78     3.72       39.50\n",
      "66   JNS-01242-05   O   C   C   C  14  15  11  10  137.60    96.64       40.96\n",
      "67   JNS-01242-05   O   C   C   C  14  15  11  12   15.06   -23.48       38.54\n",
      "68   JNS-01356-07   N   C   C   F   9  10  13  14 -178.97  -122.76       56.21\n",
      "69   JNS-01356-07   N   C   C   F   9  10  13  15  -59.07    -2.16       56.91\n",
      "70   JNS-01356-07   N   C   C   F   9  10  13  16   60.96   118.73       57.77\n",
      "71   JNS-01358-06   N   C   C   F  12  13  16  17   61.77   118.62       56.85\n",
      "72   JNS-01358-06   N   C   C   F  12  13  16  18 -178.20  -122.86       55.34\n",
      "73   JNS-01358-06   N   C   C   F  12  13  16  19  -58.21    -2.26       55.95\n",
      "74   JNS-01364-05   N   C   C   F   9  10  13  14  -60.66    -3.15       57.51\n",
      "75   JNS-01364-05   N   C   C   F   9  10  13  15  179.50  -123.62       56.88\n",
      "76   JNS-01364-05   N   C   C   F   9  10  13  16   59.28   117.79       58.51\n",
      "77   JNS-01374-06   C   N   C   C   5  17  18  19   76.34    37.16       39.18\n",
      "78   JNS-01374-06   C   N   C   C   5  17  18  26 -104.93  -144.76       39.83\n",
      "79   JNS-01374-06   C   N   C   C   8  17  18  19 -104.89  -136.85       31.96\n",
      "80   JNS-01374-06   C   N   C   C   8  17  18  26   73.84    41.23       32.61\n",
      "81   JNS-01374-06   N   C   C   F   9  10  13  14   60.72   119.46       58.74\n",
      "82   JNS-01374-06   N   C   C   F   9  10  13  15  -59.33    -1.38       57.95\n",
      "83   JNS-01374-06   N   C   C   F   9  10  13  16 -179.36  -122.03       57.33\n",
      "84   JNS-01380-06   N   C   C   F   7   8  11  12 -177.93  -123.67       54.26\n",
      "85   JNS-01380-06   N   C   C   F   7   8  11  13   61.93   117.79       55.86\n",
      "86   JNS-01380-06   N   C   C   F   7   8  11  14  -57.97    -3.15       54.82\n",
      "87   JNS-01384-09   N   C   C   F   7   8  11  12   59.29   118.69       59.40\n",
      "88   JNS-01384-09   N   C   C   F   7   8  11  13  179.41  -122.83       57.76\n",
      "89   JNS-01384-09   N   C   C   F   7   8  11  14  -60.68    -2.24       58.44\n",
      "90   RCH-01399-03   C   C   C   F   4  14  19  27 -103.95   -66.59       37.36\n",
      "91   RCH-01399-03   C   C   C   F   4  14  19  28  136.46   172.92       36.46\n",
      "92   RCH-01399-03   C   C   C   F   4  14  19  29   14.54    52.08       37.54\n",
      "93   JNS-01448-01   N   C   C   F   9  10  13  14 -176.90  -124.75       52.15\n",
      "94   JNS-01448-01   N   C   C   F   9  10  13  15   62.94   116.64       53.70\n",
      "95   JNS-01448-01   N   C   C   F   9  10  13  16  -56.94    -4.28       52.66\n",
      "96   BRI-01456-04   N   C   C   F  15  16  20  21 -179.64   122.07       58.29\n",
      "97   BRI-01456-04   N   C   C   F  15  16  20  22  -59.45  -119.28       59.83\n",
      "98   BRI-01456-04   N   C   C   F  15  16  20  23   60.53     1.54       58.99\n",
      "99   JNS-01474-05   N   C   C   F  10  11  14  15 -179.83  -123.37       56.46\n",
      "100  JNS-01474-05   N   C   C   F  10  11  14  16  -60.02    -2.88       57.14\n",
      "101  JNS-01474-05   N   C   C   F  10  11  14  17   60.05   118.12       58.07\n",
      "102  JNS-01494-05   N   C   C   F   9  10  13  14 -178.92   123.78       57.30\n",
      "103  JNS-01494-05   N   C   C   F   9  10  13  15  -58.74  -117.67       58.93\n",
      "104  JNS-01494-05   N   C   C   F   9  10  13  16   61.23     3.31       57.92\n",
      "105  BRI-01545-01   O   C   C   N   5   6   8  13  -26.52     4.33       30.85\n",
      "106  BRI-01545-01   C   C   C   F  16  17  20  21    1.89    59.11       57.22\n",
      "107  BRI-01545-01   C   C   C   F  16  17  20  22  121.93   179.79       57.86\n",
      "108  BRI-01545-01   C   C   C   F  16  17  20  23 -117.86   -59.48       58.38\n",
      "109  JNS-01548-00   C   C   C   F  16  17  19  20    0.17   -55.65       55.82\n",
      "110  JNS-01548-00   C   C   C   F  16  17  19  21  120.25    62.91       57.34\n",
      "111  JNS-01548-00   C   C   C   F  16  17  19  22 -119.72  -176.14       56.42\n",
      "112  JNS-01558-03   F   C   C   N   1   2   5   6   40.08     2.35       37.73\n",
      "113  JNS-01558-03   F   C   C   C   1   2   5  13 -141.97  -177.44       35.47\n",
      "114  JNS-01564-03   N   C   C   F  14  15  25  26  177.14   124.19       52.95\n",
      "115  JNS-01564-03   N   C   C   F  14  15  25  27   57.18     3.74       53.44\n",
      "116  JNS-01564-03   N   C   C   F  14  15  25  28  -62.89  -117.22       54.33\n",
      "117  JNS-01564-03   N   C   C   C  20  21  22  23 -140.63  -109.08       31.55\n",
      "118  JNS-01565-06   N   C   C   F   9  10  13  14  179.61  -123.81       56.58\n",
      "119  JNS-01565-06   N   C   C   F   9  10  13  15  -60.51    -3.36       57.15\n",
      "120  JNS-01565-06   N   C   C   F   9  10  13  16   59.36   117.54       58.18\n",
      "121  JNS-01581-08   F   C   C   N   1   2   5   6 -179.98   123.94       56.08\n",
      "122  JNS-01581-08   F   C   C   C   1   2   5  10    0.48   -55.68       56.16\n",
      "123  JNS-01586-05   F   C   C   N   1   2   5   6   68.18   117.47       49.29\n",
      "124  JNS-01586-05   F   C   C   C   1   2   5  13 -111.06   -62.87       48.19\n",
      "125  JNS-01589-08   N   C   C   F  13  14  24  25   68.59   116.91       48.32\n",
      "126  JNS-01589-08   N   C   C   F  13  14  24  26  -51.57    -4.12       47.45\n",
      "127  JNS-01589-08   N   C   C   F  13  14  24  27 -171.78  -124.59       47.19\n",
      "128  JNS-01589-08   N   C   C   C  19  20  21  22  140.57   109.15       31.42\n",
      "129  JNS-01594-07   C   C   C   N   1   2   4   5  100.68    54.08       46.60\n",
      "130  JNS-01594-07   C   C   C   N   1   2   4  16  -74.69  -121.80       47.11\n",
      "131  JNS-01594-07   N   C   C   F   8   9  12  13  -60.73  -116.93       56.20\n",
      "132  JNS-01594-07   N   C   C   F   8   9  12  14  179.19   124.48       54.71\n",
      "133  JNS-01594-07   N   C   C   F   8   9  12  15   59.23     4.05       55.18\n",
      "134  JNS-01595-05   C   C   C   N   1   2   4   5  103.29    54.10       49.19\n",
      "135  JNS-01595-05   C   C   C   N   1   2   4  16  -72.24  -121.84       49.60\n",
      "136  JNS-01595-05   N   C   C   F   8   9  12  13   58.41     3.30       55.11\n",
      "137  JNS-01595-05   N   C   C   F   8   9  12  14  -61.53  -117.66       56.13\n",
      "138  JNS-01595-05   N   C   C   F   8   9  12  15  178.38   123.78       54.60\n",
      "139  JNS-01596-06   N   C   C   F  16  17  20  21   60.76   119.05       58.29\n",
      "140  JNS-01596-06   N   C   C   F  16  17  20  22 -179.12  -122.53       56.59\n",
      "141  JNS-01596-06   N   C   C   F  16  17  20  23  -59.16    -1.87       57.29\n",
      "142  JNS-01614-09   N   C   C   F   7   8  11  12   60.57   117.61       57.04\n",
      "143  JNS-01614-09   N   C   C   F   7   8  11  13 -179.30  -123.87       55.43\n",
      "144  JNS-01614-09   N   C   C   F   7   8  11  14  -59.39    -3.37       56.02\n",
      "145  JNS-01658-04   N   C   C   F   6   7  10  11 -179.22  -123.48       55.74\n",
      "146  JNS-01658-04   N   C   C   F   6   7  10  12  -59.29    -2.94       56.35\n",
      "147  JNS-01658-04   N   C   C   F   6   7  10  13   60.61   117.98       57.37\n",
      "148  JNS-01681-00   F   C   C   N   1   2   5   6  179.13   122.60       56.53\n",
      "149  JNS-01681-00   F   C   C   C   1   2   5  10   -0.65   -57.19       56.54\n",
      "150  JNS-01754-00   F   C   C   C   1   2   5   6 -120.71   179.64       59.65\n",
      "151  JNS-01754-00   F   C   C   N   1   2   5  22   59.44     0.00       59.44\n",
      "152  JNS-01792-06   F   C   C   N   1   2   5   6  -59.83  -117.33       57.50\n",
      "153  JNS-01792-06   F   C   C   C   1   2   5  26  120.64    63.06       57.58\n",
      "154  JNS-01795-06   C   C   C   N   1   2   5   6    4.08    36.04       31.96\n",
      "155  JNS-01795-06   C   C   C   N   1   2   5  17 -176.21  -138.99       37.22\n",
      "156  JNS-01795-06   C   N   C   C   5  17  18  19  -88.96   -50.47       38.49\n",
      "157  JNS-01795-06   C   N   C   C   5  17  18  26   94.71   132.56       37.85\n",
      "158  JNS-01795-06   N   C   C   F   9  10  13  14 -178.55  -118.71       59.84\n",
      "159  JNS-01795-06   N   C   C   F   9  10  13  15  -58.44     2.24       60.68\n",
      "160  JNS-01795-06   N   C   C   F   9  10  13  16   61.61   122.83       61.22\n",
      "161  JNS-01845-02   N   C   C   F   6   7  10  11   60.11   117.52       57.41\n",
      "162  JNS-01845-02   N   C   C   F   6   7  10  12 -179.67  -123.91       55.76\n",
      "163  JNS-01845-02   N   C   C   F   6   7  10  13  -59.79    -3.43       56.36\n",
      "164  JNS-01861-04   N   C   C   F  16  17  20  21  -58.32    -3.59       54.73\n",
      "165  JNS-01861-04   N   C   C   F  16  17  20  22 -178.27  -124.06       54.21\n",
      "166  JNS-01861-04   N   C   C   F  16  17  20  23   61.60   117.35       55.75\n",
      "167  JNS-01948-00   N   C   C   F   4   5  15  16  178.74   120.76       57.98\n",
      "168  JNS-01948-00   N   C   C   F   4   5  15  17  -61.36  -120.66       59.30\n",
      "169  JNS-01948-00   N   C   C   F   4   5  15  18   58.58    -0.01       58.59\n",
      "170  JNS-01948-00   C   C   C   C   8   9  10  11 -110.35  -141.02       30.67\n",
      "171  JNS-01972-03   C   N   C   C   8  17  18  19 -164.73  -126.10       38.63\n",
      "172  JNS-01972-03   C   N   C   C   8  17  22  21  164.17   124.98       39.19\n",
      "173  JNS-01972-03   C   C   N   C  21  22  17   8  164.17   124.98       39.19\n",
      "174  JNS-02002-01   N   C   C   F   3   4  17  18   61.79   120.65       58.86\n",
      "175  JNS-02002-01   N   C   C   F   3   4  17  19  -58.42    -0.09       58.33\n",
      "176  JNS-02002-01   N   C   C   F   3   4  17  20 -178.37  -120.81       57.56\n",
      "177  JNS-02456-02   F   C   C   N   1   2   5   6   61.30   119.06       57.76\n",
      "178  JNS-02456-02   F   C   C   C   1   2   5  10 -118.50   -61.16       57.34\n",
      "179  JNS-02536-00   C   C   N   C   4   5   8   9  -98.25  -153.98       55.73\n",
      "180  JNS-02536-00   C   N   C   S   5   8   9  10    3.18    37.94       34.76\n",
      "181  JNS-02536-00   C   N   C   C   5   8  14  12  177.73   147.33       30.40\n",
      "182  JNS-02536-00   C   N   C   C   5   8  14  15  -55.48   -88.81       33.33\n",
      "183  JNS-02536-00   C   N   C   C   5   8  14  17   52.48    22.12       30.36\n",
      "184  JNS-02536-00   N   C   N   C   8   9  11  18  174.99   135.83       39.16\n",
      "185  JNS-02536-00   C   N   C   N   9  11  18  19 -119.15   -88.53       30.62\n",
      "186  JNS-02536-00   C   C   N   C  12  14   8   5  177.73   147.33       30.40\n"
     ]
    }
   ],
   "source": [
    "t_thresh = 30.0\n",
    "dfout = chk_valence(df, t_thresh)\n",
    "print(dfout.to_string())\n",
    "\n",
    "#dfout.to_csv('violations.csv')"
   ]
  },
  {
   "cell_type": "code",
   "execution_count": 15,
   "id": "a6616323",
   "metadata": {},
   "outputs": [],
   "source": [
    "violations = dfout.rename(columns={'ID': 'mm_conf'})"
   ]
  },
  {
   "cell_type": "markdown",
   "id": "bc7ae61c",
   "metadata": {},
   "source": [
    "### Challenge\n",
    "In the 'violation' dataframe containing the i,j,k,l values in the corresponding columns, create a new column \n",
    "containing the (i, j, k, l) tuple"
   ]
  },
  {
   "cell_type": "code",
   "execution_count": null,
   "id": "3beab62f",
   "metadata": {},
   "outputs": [],
   "source": []
  },
  {
   "cell_type": "code",
   "execution_count": 16,
   "id": "9f888636",
   "metadata": {},
   "outputs": [],
   "source": [
    "violations.drop(['val_qm', 'val_off', 'difference'], inplace=True, axis=1)\n",
    "\n",
    "violations['viol_indices'] = list(zip(violations.i-1, violations.j-1, violations.k-1, violations.l-1))"
   ]
  },
  {
   "cell_type": "code",
   "execution_count": 17,
   "id": "809a838e",
   "metadata": {},
   "outputs": [],
   "source": [
    "# if not sorted, mm_conf = old_mm_conf does not make sense\n",
    "violations = violations.sort_values(['mm_conf', 'viol_indices'])"
   ]
  },
  {
   "cell_type": "code",
   "execution_count": 18,
   "id": "84355cbb",
   "metadata": {},
   "outputs": [],
   "source": [
    "# get rid of torsion duplicates\n",
    "\n",
    "viol_copy = violations.copy()\n",
    "old_viol_ids = (0,0,0,0)\n",
    "old_mm_conf = None\n",
    "for i, row in violations.iterrows():\n",
    "    mm_conf = row['mm_conf']\n",
    "    if ((row['viol_indices'][1:3] == old_viol_ids[1:3]) | (row['viol_indices'][-2:0:-1] == old_viol_ids[1:3])) & (mm_conf == old_mm_conf):\n",
    "        viol_copy.drop(i, inplace=True)\n",
    "    old_viol_ids = row['viol_indices']\n",
    "    old_mm_conf = mm_conf"
   ]
  },
  {
   "cell_type": "code",
   "execution_count": 19,
   "id": "ffdee88d",
   "metadata": {},
   "outputs": [],
   "source": [
    "viol_copy = viol_copy.sort_values(['mm_conf', 'viol_indices'])"
   ]
  },
  {
   "cell_type": "code",
   "execution_count": 22,
   "id": "e1b75eb5",
   "metadata": {
    "collapsed": true
   },
   "outputs": [
    {
     "name": "stdout",
     "output_type": "stream",
     "text": [
      "          mm_conf at1 at2 at3 at4   i   j   k   l      viol_indices\n",
      "24   BRI-00638-05   C   C   O   C   1   2   3   4      (0, 1, 2, 3)\n",
      "25   BRI-00638-05   C   C   N   S   4   5   6   7      (3, 4, 5, 6)\n",
      "26   BRI-00638-05   C   C   C   F  19  20  22  23  (18, 19, 21, 22)\n",
      "29   BRI-00647-05   N   C   C   O   8   9  21  22    (7, 8, 20, 21)\n",
      "31   BRI-00647-05   N   C   C   F  13  14  17  18  (12, 13, 16, 17)\n",
      "37   BRI-00739-00   C   C   C   C   3   5  11  10     (2, 4, 10, 9)\n",
      "39   BRI-00739-00   C   C   C   F  14  15  19  20  (13, 14, 18, 19)\n",
      "54   BRI-01231-06   C   O   C   C   1   2   3   4      (0, 1, 2, 3)\n",
      "56   BRI-01231-06   N   C   C   F   8   9  12  13    (7, 8, 11, 12)\n",
      "96   BRI-01456-04   N   C   C   F  15  16  20  21  (14, 15, 19, 20)\n",
      "105  BRI-01545-01   O   C   C   N   5   6   8  13     (4, 5, 7, 12)\n",
      "106  BRI-01545-01   C   C   C   F  16  17  20  21  (15, 16, 19, 20)\n",
      "6    GNT-00519-00   F   C   C   C   3  20  14  10    (2, 19, 13, 9)\n",
      "0    JNS-00129-06   N   C   C   F  14  15  18  19  (13, 14, 17, 18)\n",
      "34   JNS-00690-06   N   C   C   F   9  10  13  14    (8, 9, 12, 13)\n",
      "45   JNS-01002-06   N   C   C   F   3   4  16  17    (2, 3, 15, 16)\n",
      "59   JNS-01242-05   F   C   C   C   1   2   5   6      (0, 1, 4, 5)\n",
      "61   JNS-01242-05   N   C   C   C   9  10  11  12    (8, 9, 10, 11)\n",
      "63   JNS-01242-05   C   C   C   O  10  11  15  14   (9, 10, 14, 13)\n",
      "64   JNS-01242-05   C   C   O   C  11  15  14  13  (10, 14, 13, 12)\n",
      "66   JNS-01242-05   O   C   C   C  14  15  11  10   (13, 14, 10, 9)\n",
      "68   JNS-01356-07   N   C   C   F   9  10  13  14    (8, 9, 12, 13)\n",
      "71   JNS-01358-06   N   C   C   F  12  13  16  17  (11, 12, 15, 16)\n",
      "74   JNS-01364-05   N   C   C   F   9  10  13  14    (8, 9, 12, 13)\n",
      "77   JNS-01374-06   C   N   C   C   5  17  18  19   (4, 16, 17, 18)\n",
      "81   JNS-01374-06   N   C   C   F   9  10  13  14    (8, 9, 12, 13)\n",
      "84   JNS-01380-06   N   C   C   F   7   8  11  12    (6, 7, 10, 11)\n",
      "87   JNS-01384-09   N   C   C   F   7   8  11  12    (6, 7, 10, 11)\n",
      "93   JNS-01448-01   N   C   C   F   9  10  13  14    (8, 9, 12, 13)\n",
      "99   JNS-01474-05   N   C   C   F  10  11  14  15   (9, 10, 13, 14)\n",
      "102  JNS-01494-05   N   C   C   F   9  10  13  14    (8, 9, 12, 13)\n",
      "109  JNS-01548-00   C   C   C   F  16  17  19  20  (15, 16, 18, 19)\n",
      "112  JNS-01558-03   F   C   C   N   1   2   5   6      (0, 1, 4, 5)\n",
      "114  JNS-01564-03   N   C   C   F  14  15  25  26  (13, 14, 24, 25)\n",
      "117  JNS-01564-03   N   C   C   C  20  21  22  23  (19, 20, 21, 22)\n",
      "118  JNS-01565-06   N   C   C   F   9  10  13  14    (8, 9, 12, 13)\n",
      "121  JNS-01581-08   F   C   C   N   1   2   5   6      (0, 1, 4, 5)\n",
      "123  JNS-01586-05   F   C   C   N   1   2   5   6      (0, 1, 4, 5)\n",
      "125  JNS-01589-08   N   C   C   F  13  14  24  25  (12, 13, 23, 24)\n",
      "128  JNS-01589-08   N   C   C   C  19  20  21  22  (18, 19, 20, 21)\n",
      "129  JNS-01594-07   C   C   C   N   1   2   4   5      (0, 1, 3, 4)\n",
      "131  JNS-01594-07   N   C   C   F   8   9  12  13    (7, 8, 11, 12)\n",
      "134  JNS-01595-05   C   C   C   N   1   2   4   5      (0, 1, 3, 4)\n",
      "136  JNS-01595-05   N   C   C   F   8   9  12  13    (7, 8, 11, 12)\n",
      "139  JNS-01596-06   N   C   C   F  16  17  20  21  (15, 16, 19, 20)\n",
      "142  JNS-01614-09   N   C   C   F   7   8  11  12    (6, 7, 10, 11)\n",
      "145  JNS-01658-04   N   C   C   F   6   7  10  11     (5, 6, 9, 10)\n",
      "148  JNS-01681-00   F   C   C   N   1   2   5   6      (0, 1, 4, 5)\n",
      "150  JNS-01754-00   F   C   C   C   1   2   5   6      (0, 1, 4, 5)\n",
      "152  JNS-01792-06   F   C   C   N   1   2   5   6      (0, 1, 4, 5)\n",
      "154  JNS-01795-06   C   C   C   N   1   2   5   6      (0, 1, 4, 5)\n",
      "156  JNS-01795-06   C   N   C   C   5  17  18  19   (4, 16, 17, 18)\n",
      "158  JNS-01795-06   N   C   C   F   9  10  13  14    (8, 9, 12, 13)\n",
      "161  JNS-01845-02   N   C   C   F   6   7  10  11     (5, 6, 9, 10)\n",
      "164  JNS-01861-04   N   C   C   F  16  17  20  21  (15, 16, 19, 20)\n",
      "167  JNS-01948-00   N   C   C   F   4   5  15  16    (3, 4, 14, 15)\n",
      "170  JNS-01948-00   C   C   C   C   8   9  10  11     (7, 8, 9, 10)\n",
      "171  JNS-01972-03   C   N   C   C   8  17  18  19   (7, 16, 17, 18)\n",
      "172  JNS-01972-03   C   N   C   C   8  17  22  21   (7, 16, 21, 20)\n",
      "174  JNS-02002-01   N   C   C   F   3   4  17  18    (2, 3, 16, 17)\n",
      "177  JNS-02456-02   F   C   C   N   1   2   5   6      (0, 1, 4, 5)\n",
      "179  JNS-02536-00   C   C   N   C   4   5   8   9      (3, 4, 7, 8)\n",
      "180  JNS-02536-00   C   N   C   S   5   8   9  10      (4, 7, 8, 9)\n",
      "181  JNS-02536-00   C   N   C   C   5   8  14  12    (4, 7, 13, 11)\n",
      "184  JNS-02536-00   N   C   N   C   8   9  11  18    (7, 8, 10, 17)\n",
      "185  JNS-02536-00   C   N   C   N   9  11  18  19   (8, 10, 17, 18)\n",
      "186  JNS-02536-00   C   C   N   C  12  14   8   5    (11, 13, 7, 4)\n",
      "18   MRK-00538-08   C   C   C   F  20  21  22  23  (19, 20, 21, 22)\n",
      "42   MRK-00792-05   C   C   C   F   8   9  10  11     (7, 8, 9, 10)\n",
      "48   MRK-01088-04   C   C   C   F  17  18  19  20  (16, 17, 18, 19)\n",
      "51   RCH-01195-01   C   C   C   F   3   6  10  15     (2, 5, 9, 14)\n",
      "90   RCH-01399-03   C   C   C   F   4  14  19  27   (3, 13, 18, 26)\n",
      "3    XTP-00455-03   C   C   C   F   2  12  14  15   (1, 11, 13, 14)\n",
      "21   XTP-00577-02   C   C   C   F   2  15  16  17   (1, 14, 15, 16)\n"
     ]
    }
   ],
   "source": [
    "print(viol_copy.to_string())"
   ]
  },
  {
   "cell_type": "markdown",
   "id": "4a6b98c1",
   "metadata": {},
   "source": [
    "### Challenge\n",
    "In the 'viol_copy' dataframe, select only the violations tuples that contain (i,2,5,l) as the rotating bond"
   ]
  },
  {
   "cell_type": "code",
   "execution_count": null,
   "id": "aa5fe746",
   "metadata": {},
   "outputs": [],
   "source": []
  },
  {
   "cell_type": "markdown",
   "id": "4843e80b",
   "metadata": {},
   "source": [
    "## 2. Identify forcefield parameters associated with torsion violations"
   ]
  },
  {
   "cell_type": "markdown",
   "id": "1b9fca6c",
   "metadata": {},
   "source": [
    "In order to identify which parameter corresponds to a given torsion violation, we build a dictionary containing\n",
    "all the parameters exercised by the conformers that are producing a violation. Afterwards, we search the middle\n",
    "indices of the violating torsions that match the middle indices of the torsion parameters."
   ]
  },
  {
   "cell_type": "code",
   "execution_count": 24,
   "id": "dc90783a",
   "metadata": {
    "collapsed": true
   },
   "outputs": [
    {
     "name": "stderr",
     "output_type": "stream",
     "text": [
      "/users/home/ldamored/miniconda/envs/off-opt/lib/python3.7/site-packages/ipykernel_launcher.py:1: DeprecationWarning: Importing this package as `import openforcefield.XXX` and `from openforcefield import XXX` was marked for deprecation in version `0.8.3`. From version `0.9.0` onwards this package will need to be imported as `import openff.toolkit.XXX` and `from openff.toolkit import XXX`. See the `0.8.3` release notes for more information. A migration guide is also available at https://github.com/openforcefield/openff-toolkit/issues/819\n",
      "  \"\"\"Entry point for launching an IPython kernel.\n",
      "Warning: Unable to load toolkit 'OpenEye Toolkit'. The Open Force Field Toolkit does not require the OpenEye Toolkits, and can use RDKit/AmberTools instead. However, if you have a valid license for the OpenEye Toolkits, consider installing them for faster performance and additional file format support: https://docs.eyesopen.com/toolkits/python/quickstart-python/linuxosx.html OpenEye offers free Toolkit licenses for academics: https://www.eyesopen.com/academic-licensing\n"
     ]
    }
   ],
   "source": [
    "from openforcefield.topology import Molecule, Topology\n",
    "from openforcefield.typing.engines.smirnoff import ForceField"
   ]
  },
  {
   "cell_type": "code",
   "execution_count": 25,
   "id": "1b83001c",
   "metadata": {
    "collapsed": true
   },
   "outputs": [
    {
     "name": "stderr",
     "output_type": "stream",
     "text": [
      "Creating ff parm dict: 100%|██████████| 50/50 [00:29<00:00,  1.68it/s]\n"
     ]
    }
   ],
   "source": [
    "path_input = 'data/openff-1.3.0/'\n",
    "mols = []\n",
    "\n",
    "for mol in viol_copy.mm_conf:\n",
    "    mols.append(mol)\n",
    "mols = np.unique(mols).tolist()\n",
    "\n",
    "ff_mols = {mol: Molecule.from_file(f'{path_input}/{mol}.sdf', 'SDF') for mol in mols}\n",
    "\n",
    "mm_df = pd.DataFrame(ff_mols.items(), columns=['mm_conf', 'molecule'])\n",
    "\n",
    "forcefield = ForceField('openff-1.3.0.offxml')\n",
    "\n",
    "mm_parm = mm_df.copy()\n",
    "for i, row in tqdm(mm_df.iterrows(), total=mm_df.shape[0], desc='Creating ff parm dict'):\n",
    "    molecule = row['molecule']\n",
    "    topology = Topology.from_molecules([molecule])\n",
    "    mm_parm.loc[i, 'ff_parm'] = forcefield.label_molecules(topology)\n",
    "\n",
    "mm_parm.set_index('mm_conf', inplace=True)"
   ]
  },
  {
   "cell_type": "code",
   "execution_count": 26,
   "id": "29d65378",
   "metadata": {},
   "outputs": [],
   "source": [
    "results = {}\n",
    "for i, row in viol_copy.iterrows():\n",
    "    mm_conf = row['mm_conf']\n",
    "    mol_forces = mm_parm.loc[mm_conf]['ff_parm']\n",
    "    force_dict = mol_forces['ProperTorsions']\n",
    "    for atom_indices, parameter in force_dict.items():\n",
    "        if ((row['viol_indices'][1:3] == atom_indices[1:3]) | (row['viol_indices'][-2:0:-1] == atom_indices[1:3])):\n",
    "\n",
    "            results[i] = {\n",
    "                'mm_conf': mm_conf,\n",
    "                'parameter': parameter.id,\n",
    "                'viol_ids': row['viol_indices'],\n",
    "                'parm_ids': atom_indices,\n",
    "                'smirks': parameter.smirks\n",
    "                }"
   ]
  },
  {
   "cell_type": "code",
   "execution_count": 27,
   "id": "675af405",
   "metadata": {},
   "outputs": [],
   "source": [
    "results_df = pd.DataFrame.from_dict(results, orient='index')"
   ]
  },
  {
   "cell_type": "code",
   "execution_count": 28,
   "id": "58e18f06",
   "metadata": {
    "collapsed": true
   },
   "outputs": [
    {
     "name": "stdout",
     "output_type": "stream",
     "text": [
      "          mm_conf parameter          viol_ids          parm_ids                                           smirks\n",
      "24   BRI-00638-05       t86      (0, 1, 2, 3)     (3, 2, 1, 29)                  [*:1]-[#6X4:2]-[#8X2H0:3]-[*:4]\n",
      "25   BRI-00638-05       t51      (3, 4, 5, 6)    (33, 4, 5, 34)                    [*:1]-[#6X4:2]-[#7X3:3]-[*:4]\n",
      "26   BRI-00638-05       t17  (18, 19, 21, 22)  (20, 19, 21, 24)                    [*:1]~[#6X3:2]-[#6X4:3]-[*:4]\n",
      "29   BRI-00647-05       t18    (7, 8, 20, 21)   (22, 20, 8, 33)                [#1:1]-[#6X4:2]-[#6X3:3]=[#8X1:4]\n",
      "31   BRI-00647-05       t17  (12, 13, 16, 17)  (14, 13, 16, 19)                    [*:1]~[#6X3:2]-[#6X4:3]-[*:4]\n",
      "37   BRI-00739-00       t18     (2, 4, 10, 9)   (11, 10, 4, 26)                [#1:1]-[#6X4:2]-[#6X3:3]=[#8X1:4]\n",
      "39   BRI-00739-00       t17  (13, 14, 18, 19)  (15, 14, 18, 21)                    [*:1]~[#6X3:2]-[#6X4:3]-[*:4]\n",
      "54   BRI-01231-06       t96      (0, 1, 2, 3)     (0, 1, 2, 18)                    [*:1]~[#6X3:2]-[#8X2:3]-[*:4]\n",
      "56   BRI-01231-06       t17    (7, 8, 11, 12)    (9, 8, 11, 14)                    [*:1]~[#6X3:2]-[#6X4:3]-[*:4]\n",
      "96   BRI-01456-04       t17  (14, 15, 19, 20)  (16, 15, 19, 22)                    [*:1]~[#6X3:2]-[#6X4:3]-[*:4]\n",
      "105  BRI-01545-01       t20     (4, 5, 7, 12)     (6, 5, 7, 13)                    [*:1]-[#6X4:2]-[#6X3:3]=[*:4]\n",
      "6    GNT-00519-00       t17    (2, 19, 13, 9)   (4, 19, 13, 10)                    [*:1]~[#6X3:2]-[#6X4:3]-[*:4]\n",
      "0    JNS-00129-06       t17  (13, 14, 17, 18)  (15, 14, 17, 20)                    [*:1]~[#6X3:2]-[#6X4:3]-[*:4]\n",
      "34   JNS-00690-06       t17    (8, 9, 12, 13)   (10, 9, 12, 15)                    [*:1]~[#6X3:2]-[#6X4:3]-[*:4]\n",
      "45   JNS-01002-06       t17    (2, 3, 15, 16)    (4, 3, 15, 18)                    [*:1]~[#6X3:2]-[#6X4:3]-[*:4]\n",
      "59   JNS-01242-05       t17      (0, 1, 4, 5)     (3, 1, 4, 17)                    [*:1]~[#6X3:2]-[#6X4:3]-[*:4]\n",
      "61   JNS-01242-05       t17    (8, 9, 10, 11)   (15, 9, 10, 30)                    [*:1]~[#6X3:2]-[#6X4:3]-[*:4]\n",
      "63   JNS-01242-05        t3   (9, 10, 14, 13)  (30, 10, 14, 36)                  [#1:1]-[#6X4:2]-[#6X4:3]-[#1:4]\n",
      "64   JNS-01242-05       t86  (10, 14, 13, 12)  (12, 13, 14, 36)                  [*:1]-[#6X4:2]-[#8X2H0:3]-[*:4]\n",
      "66   JNS-01242-05        t3   (13, 14, 10, 9)  (30, 10, 14, 36)                  [#1:1]-[#6X4:2]-[#6X4:3]-[#1:4]\n",
      "68   JNS-01356-07       t17    (8, 9, 12, 13)   (10, 9, 12, 15)                    [*:1]~[#6X3:2]-[#6X4:3]-[*:4]\n",
      "71   JNS-01358-06       t17  (11, 12, 15, 16)  (13, 12, 15, 18)                    [*:1]~[#6X3:2]-[#6X4:3]-[*:4]\n",
      "74   JNS-01364-05       t17    (8, 9, 12, 13)   (10, 9, 12, 15)                    [*:1]~[#6X3:2]-[#6X4:3]-[*:4]\n",
      "77   JNS-01374-06       t69   (4, 16, 17, 18)   (7, 16, 17, 25)           [*:1]~[#7X3,#7X2-1:2]-!@[#6X3:3]~[*:4]\n",
      "81   JNS-01374-06       t17    (8, 9, 12, 13)   (10, 9, 12, 15)                    [*:1]~[#6X3:2]-[#6X4:3]-[*:4]\n",
      "84   JNS-01380-06       t17    (6, 7, 10, 11)    (8, 7, 10, 13)                    [*:1]~[#6X3:2]-[#6X4:3]-[*:4]\n",
      "87   JNS-01384-09       t17    (6, 7, 10, 11)    (8, 7, 10, 13)                    [*:1]~[#6X3:2]-[#6X4:3]-[*:4]\n",
      "93   JNS-01448-01       t17    (8, 9, 12, 13)   (10, 9, 12, 15)                    [*:1]~[#6X3:2]-[#6X4:3]-[*:4]\n",
      "99   JNS-01474-05       t17   (9, 10, 13, 14)  (11, 10, 13, 16)                    [*:1]~[#6X3:2]-[#6X4:3]-[*:4]\n",
      "102  JNS-01494-05       t17    (8, 9, 12, 13)   (10, 9, 12, 15)                    [*:1]~[#6X3:2]-[#6X4:3]-[*:4]\n",
      "109  JNS-01548-00       t17  (15, 16, 18, 19)  (17, 16, 18, 21)                    [*:1]~[#6X3:2]-[#6X4:3]-[*:4]\n",
      "112  JNS-01558-03       t17      (0, 1, 4, 5)     (3, 1, 4, 12)                    [*:1]~[#6X3:2]-[#6X4:3]-[*:4]\n",
      "114  JNS-01564-03       t17  (13, 14, 24, 25)  (15, 14, 24, 27)                    [*:1]~[#6X3:2]-[#6X4:3]-[*:4]\n",
      "117  JNS-01564-03        t3  (19, 20, 21, 22)  (38, 20, 21, 40)                  [#1:1]-[#6X4:2]-[#6X4:3]-[#1:4]\n",
      "118  JNS-01565-06       t17    (8, 9, 12, 13)   (10, 9, 12, 15)                    [*:1]~[#6X3:2]-[#6X4:3]-[*:4]\n",
      "121  JNS-01581-08       t17      (0, 1, 4, 5)      (3, 1, 4, 9)                    [*:1]~[#6X3:2]-[#6X4:3]-[*:4]\n",
      "123  JNS-01586-05       t17      (0, 1, 4, 5)     (3, 1, 4, 12)                    [*:1]~[#6X3:2]-[#6X4:3]-[*:4]\n",
      "125  JNS-01589-08       t17  (12, 13, 23, 24)  (14, 13, 23, 26)                    [*:1]~[#6X3:2]-[#6X4:3]-[*:4]\n",
      "128  JNS-01589-08        t3  (18, 19, 20, 21)  (36, 19, 20, 38)                  [#1:1]-[#6X4:2]-[#6X4:3]-[#1:4]\n",
      "129  JNS-01594-07       t17      (0, 1, 3, 4)    (15, 3, 1, 29)                    [*:1]~[#6X3:2]-[#6X4:3]-[*:4]\n",
      "131  JNS-01594-07       t17    (7, 8, 11, 12)    (9, 8, 11, 14)                    [*:1]~[#6X3:2]-[#6X4:3]-[*:4]\n",
      "134  JNS-01595-05       t17      (0, 1, 3, 4)    (15, 3, 1, 29)                    [*:1]~[#6X3:2]-[#6X4:3]-[*:4]\n",
      "136  JNS-01595-05       t17    (7, 8, 11, 12)    (9, 8, 11, 14)                    [*:1]~[#6X3:2]-[#6X4:3]-[*:4]\n",
      "139  JNS-01596-06       t17  (15, 16, 19, 20)  (17, 16, 19, 22)                    [*:1]~[#6X3:2]-[#6X4:3]-[*:4]\n",
      "142  JNS-01614-09       t17    (6, 7, 10, 11)    (8, 7, 10, 13)                    [*:1]~[#6X3:2]-[#6X4:3]-[*:4]\n",
      "145  JNS-01658-04       t17     (5, 6, 9, 10)     (7, 6, 9, 12)                    [*:1]~[#6X3:2]-[#6X4:3]-[*:4]\n",
      "148  JNS-01681-00       t17      (0, 1, 4, 5)      (3, 1, 4, 9)                    [*:1]~[#6X3:2]-[#6X4:3]-[*:4]\n",
      "150  JNS-01754-00       t17      (0, 1, 4, 5)     (3, 1, 4, 21)                    [*:1]~[#6X3:2]-[#6X4:3]-[*:4]\n",
      "152  JNS-01792-06       t17      (0, 1, 4, 5)     (3, 1, 4, 25)                    [*:1]~[#6X3:2]-[#6X4:3]-[*:4]\n",
      "154  JNS-01795-06       t23      (0, 1, 4, 5)     (3, 1, 4, 16)              [#6X4:1]-[#6X4:2]-[#6X3:3]-[#7X3:4]\n",
      "156  JNS-01795-06       t69   (4, 16, 17, 18)   (7, 16, 17, 25)           [*:1]~[#7X3,#7X2-1:2]-!@[#6X3:3]~[*:4]\n",
      "158  JNS-01795-06       t17    (8, 9, 12, 13)   (10, 9, 12, 15)                    [*:1]~[#6X3:2]-[#6X4:3]-[*:4]\n",
      "161  JNS-01845-02       t17     (5, 6, 9, 10)     (7, 6, 9, 12)                    [*:1]~[#6X3:2]-[#6X4:3]-[*:4]\n",
      "164  JNS-01861-04       t17  (15, 16, 19, 20)  (17, 16, 19, 22)                    [*:1]~[#6X3:2]-[#6X4:3]-[*:4]\n",
      "167  JNS-01948-00       t17    (3, 4, 14, 15)    (5, 4, 14, 17)                    [*:1]~[#6X3:2]-[#6X4:3]-[*:4]\n",
      "170  JNS-01948-00        t3     (7, 8, 9, 10)    (24, 8, 9, 26)                  [#1:1]-[#6X4:2]-[#6X4:3]-[#1:4]\n",
      "171  JNS-01972-03       t59   (7, 16, 17, 18)  (21, 16, 17, 30)    [*:1]-[#6X4:2]-[#7X3$(*~[#6X3,#6X2]):3]~[*:4]\n",
      "172  JNS-01972-03       t59   (7, 16, 21, 20)  (17, 16, 21, 37)    [*:1]-[#6X4:2]-[#7X3$(*~[#6X3,#6X2]):3]~[*:4]\n",
      "174  JNS-02002-01       t17    (2, 3, 16, 17)    (4, 3, 16, 19)                    [*:1]~[#6X3:2]-[#6X4:3]-[*:4]\n",
      "177  JNS-02456-02       t17      (0, 1, 4, 5)      (3, 1, 4, 9)                    [*:1]~[#6X3:2]-[#6X4:3]-[*:4]\n",
      "179  JNS-02536-00       t69      (3, 4, 7, 8)     (5, 4, 7, 13)           [*:1]~[#7X3,#7X2-1:2]-!@[#6X3:3]~[*:4]\n",
      "180  JNS-02536-00       t71      (4, 7, 8, 9)    (10, 8, 7, 13)             [*:1]-[#7X3;r5:2]-@[#6X3;r5:3]~[*:4]\n",
      "181  JNS-02536-00       t62    (4, 7, 13, 11)    (8, 7, 13, 16)  [#6X4:1]-[#6X4:2]-[#7X3:3]-[#6X3:4]=[#8,#16,#7]\n",
      "184  JNS-02536-00       t71    (7, 8, 10, 17)    (9, 8, 10, 17)             [*:1]-[#7X3;r5:2]-@[#6X3;r5:3]~[*:4]\n",
      "185  JNS-02536-00       t69   (8, 10, 17, 18)  (11, 10, 17, 22)           [*:1]~[#7X3,#7X2-1:2]-!@[#6X3:3]~[*:4]\n",
      "186  JNS-02536-00       t62    (11, 13, 7, 4)    (8, 7, 13, 16)  [#6X4:1]-[#6X4:2]-[#7X3:3]-[#6X3:4]=[#8,#16,#7]\n",
      "18   MRK-00538-08       t17  (19, 20, 21, 22)  (24, 21, 20, 25)                    [*:1]~[#6X3:2]-[#6X4:3]-[*:4]\n",
      "42   MRK-00792-05       t17     (7, 8, 9, 10)    (12, 9, 8, 13)                    [*:1]~[#6X3:2]-[#6X4:3]-[*:4]\n",
      "48   MRK-01088-04       t17  (16, 17, 18, 19)  (21, 18, 17, 22)                    [*:1]~[#6X3:2]-[#6X4:3]-[*:4]\n",
      "51   RCH-01195-01       t17     (2, 5, 9, 14)    (11, 5, 9, 16)                    [*:1]~[#6X3:2]-[#6X4:3]-[*:4]\n",
      "90   RCH-01399-03       t17   (3, 13, 18, 26)  (19, 13, 18, 28)                    [*:1]~[#6X3:2]-[#6X4:3]-[*:4]\n",
      "3    XTP-00455-03       t17   (1, 11, 13, 14)  (16, 13, 11, 18)                    [*:1]~[#6X3:2]-[#6X4:3]-[*:4]\n",
      "21   XTP-00577-02       t17   (1, 14, 15, 16)  (18, 15, 14, 20)                    [*:1]~[#6X3:2]-[#6X4:3]-[*:4]\n"
     ]
    }
   ],
   "source": [
    "print(results_df.to_string())"
   ]
  },
  {
   "cell_type": "markdown",
   "id": "c7a40183",
   "metadata": {},
   "source": [
    "## 3. Visualize violation frequency as a function of torsion parameter"
   ]
  },
  {
   "cell_type": "markdown",
   "id": "2dbc4396",
   "metadata": {},
   "source": [
    "We want to visualize how many time a torsion parameter has produced a violation and to normalize it by the number of times the parameter has been exercised"
   ]
  },
  {
   "cell_type": "code",
   "execution_count": 29,
   "id": "fc21d33e",
   "metadata": {},
   "outputs": [],
   "source": [
    "import matplotlib.pyplot as plt\n",
    "import seaborn as sns"
   ]
  },
  {
   "cell_type": "code",
   "execution_count": 30,
   "id": "9ffd5153",
   "metadata": {
    "collapsed": true
   },
   "outputs": [
    {
     "data": {
      "image/png": "[encoded data removed]",
      "text/plain": [
       "<Figure size 1080x360 with 1 Axes>"
      ]
     },
     "metadata": {
      "needs_background": "light"
     },
     "output_type": "display_data"
    }
   ],
   "source": [
    "sns.displot(results_df, x = 'parameter', height = 5, aspect = 3)\n",
    "\n",
    "plt.title('openff-1.3.0 shortcomings', fontsize=18)\n",
    "plt.xlabel('ff_parm.ID', fontsize=16)\n",
    "plt.ylabel('N of violations', fontsize=16)\n",
    "plt.xticks(fontsize=16, rotation=45)\n",
    "plt.tick_params(axis='both', which='major', labelsize=16)\n",
    "plt.tight_layout()"
   ]
  },
  {
   "cell_type": "code",
   "execution_count": 32,
   "id": "ea7b9dea",
   "metadata": {},
   "outputs": [],
   "source": [
    "# open the coverage report and select torsion parameter exercised in the dataset\n",
    "with open('data/coverage-report/coverage_report.json', 'r') as f:\n",
    "    cov = json.load(f)\n",
    "tor_parms = pd.Series(cov['ProperTorsions'])\n",
    "tor_parms = tor_parms.reset_index()\n",
    "tor_parms.columns = ['parameter', 'parm_count']\n",
    "tor_parms = tor_parms.sort_values(['parm_count', 'parameter'])\n",
    "\n",
    "# counts number of violations produced by a parameter\n",
    "counts = results_df['parameter'].value_counts()\n",
    "counts_df = pd.Series.to_frame(counts)\n",
    "counts_df.reset_index(level=0, inplace=True)\n",
    "counts_df = counts_df.rename(columns={'index': 'parameter', 'parameter': 'viol_count'})\n",
    "counts_df = pd.merge(counts_df, tor_parms, on='parameter', how='inner')\n",
    "counts_df['rel_viol'] = counts_df['viol_count'] / counts_df['parm_count'] * 100"
   ]
  },
  {
   "cell_type": "code",
   "execution_count": 33,
   "id": "9b5c8b2b",
   "metadata": {
    "collapsed": true
   },
   "outputs": [
    {
     "data": {
      "image/png": "[encoded data removed]",
      "text/plain": [
       "<Figure size 864x432 with 1 Axes>"
      ]
     },
     "metadata": {
      "needs_background": "light"
     },
     "output_type": "display_data"
    }
   ],
   "source": [
    "fig_dims = (12, 6)\n",
    "fig, ax = plt.subplots(figsize=fig_dims)\n",
    "\n",
    "sns.barplot(x='parameter',\n",
    "            y='rel_viol',\n",
    "            ax=ax,\n",
    "            data=counts_df,\n",
    "            hue='viol_count',\n",
    "            palette='RdYlGn_r',\n",
    "            dodge=False)\n",
    "\n",
    "plt.title('openff-1.3.0 shortcomings', fontsize=18)\n",
    "plt.xlabel('ff_parm.ID', fontsize=16)\n",
    "plt.ylabel('relative violation', fontsize=16)\n",
    "plt.xticks(fontsize=16, rotation=45)\n",
    "plt.tick_params(axis='both', which='major', labelsize=16)\n",
    "plt.tight_layout()"
   ]
  }
 ],
 "metadata": {
  "kernelspec": {
   "display_name": "Python 3",
   "language": "python",
   "name": "python3"
  },
  "language_info": {
   "codemirror_mode": {
    "name": "ipython",
    "version": 3
   },
   "file_extension": ".py",
   "mimetype": "text/x-python",
   "name": "python",
   "nbconvert_exporter": "python",
   "pygments_lexer": "ipython3",
   "version": "3.7.10"
  }
 },
 "nbformat": 4,
 "nbformat_minor": 5
}
